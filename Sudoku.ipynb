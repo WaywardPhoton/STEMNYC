{
 "cells": [
  {
   "cell_type": "code",
   "execution_count": null,
   "source": [
    "%matplotlib inline\r\n",
    "# Importing standard Qiskit libraries\r\n",
    "from qiskit import QuantumCircuit, execute, Aer, IBMQ\r\n",
    "from qiskit.compiler import transpile, assemble\r\n",
    "from qiskit.tools.jupyter import *\r\n",
    "from qiskit.visualization import *\r\n",
    "from ibm_quantum_widgets import *\r\n",
    "from qiskit import QuantumRegister, ClassicalRegister, QuantumCircuit\r\n",
    "from numpy import pi\r\n",
    "from qiskit.providers.ibmq import least_busy\r\n",
    "\r\n",
    "# Loading your IBM Q account(s)\r\n",
    "IBMQ.save_account('YOUR API TOKEN HERE')\r\n",
    "provider = IBMQ.load_account()"
   ],
   "outputs": [],
   "metadata": {}
  },
  {
   "cell_type": "markdown",
   "source": [
    "## Sudoku Solver\n",
    "\n",
    "Let's look at a very basic implementation of the Grover algorithm: solving an NP-C problems! In this case, the problem is going to be a 2x2 binary sudoku. Obviously, solving a problem of this size is trivial (you can do it in your head) and most definitely not NP-hard (at least not until it gets larger) but the steps are valuable in forming an understanding of how oracles are created to solve problems.\n",
    "\n",
    "Let's take a look at at the Sudoku grid and constraints. Each square is assigned a variable, $V_1, V_2, V_3, V_4$:\n",
    "\n",
    "![](images/sudoku.PNG)\n",
    "\n",
    "And we specify that: \n",
    "- No column may contain the same value twice\n",
    "- No row may contain the same value twice\n",
    "\n",
    "We need to create a quantum circuit that implements an oracle checking function. The 4 conditions you need to check are: \n",
    "\n",
    "- v0 ≠ v1   # check along top row\n",
    "- v2 ≠ v3   # check along bottom row\n",
    "- v0 ≠ v2   # check down left column\n",
    "- v1 ≠ v3   # check down right column\n",
    "\n",
    "First, create a clause list that holds the indices of the pair of variables you need to check:\n"
   ],
   "metadata": {}
  },
  {
   "cell_type": "code",
   "execution_count": null,
   "source": [
    "clause_list = [[0,1],\r\n",
    "               [0,2],\r\n",
    "               [1,3],\r\n",
    "               [2,3]]"
   ],
   "outputs": [],
   "metadata": {}
  },
  {
   "cell_type": "markdown",
   "source": [
    "We will assign the value of each variable to a bit in our circuit. Do do this, first you will need to create a quantum circuit consisting of quantum bits. You can initialize these using the following code:\n",
    "\n",
    "- OBJ_QUANTUM = **QuantumRegister(SIZE, name='')**\n",
    "\n",
    "OBJ_ is replaced with an object name of your choice, SIZE represents the number of qubits in the register. All qubits are initialized to the $|0\\rangle$ state.\n",
    "    \n",
    "A quantum circuit is create by joining registers together together with:\n",
    "\n",
    "OBJ_QC= **QuantumCircuit(OBJ_QUANTUM, OBJ_QUANTUM2)**\n",
    "\n",
    "Since you will be performing 4 checks total for this circuit, and storing the result of each check in a new qubit, how many qubits do you need? "
   ],
   "metadata": {}
  },
  {
   "cell_type": "code",
   "execution_count": null,
   "source": [
    "SIZE = #YOUR CODE HERE#\r\n",
    "SIZE2 = #YOUR CODE HERE#\r\n",
    "\r\n",
    "var_qubits = QuantumRegister(SIZE, name='v')  # representing variable bits\r\n",
    "clause_qubits = QuantumRegister(SIZE2, name='c')  # bits to store clause-checks\r\n",
    "\r\n",
    "# Create quantum circuit\r\n",
    "qc = QuantumCircuit(var_qubits, clause_qubits)\r\n"
   ],
   "outputs": [],
   "metadata": {}
  },
  {
   "cell_type": "markdown",
   "source": [
    "Now, we need to create a simple two-qubit circuit that will check whether two qubits are equal to each other, and store the result in an output variable.\n",
    "We can do this using the CNOT gate, which will flip the sign of the target qubit if the control qubit is a 1. The CNOT gate is created by calling the **cx** built-in function like so: \n",
    "\n",
    "**cx(CONTROL, TARGET)**\n",
    "\n",
    "Where the CONTROL and TARGET qubits are specified by the user. We can create a simple function that uses these CNOT gates to check whether var1 == var2, and to store the result in a (classical) output qubit. "
   ],
   "metadata": {}
  },
  {
   "cell_type": "code",
   "execution_count": null,
   "source": [
    "# Create a simple function that implements this\r\n",
    "def XOR(qc, a, b, output):\r\n",
    "    \r\n",
    "    qc.cx(a, output)\r\n",
    "    qc.cx(b, output)"
   ],
   "outputs": [],
   "metadata": {}
  },
  {
   "cell_type": "code",
   "execution_count": null,
   "source": [
    "## Let's see what this looks like. Creating a 2-qubit dummy circuit:\r\n",
    "\r\n",
    "in_qubits = QuantumRegister(2, name='input')\r\n",
    "out_qubit = QuantumRegister(1, name='output')\r\n",
    "qc = QuantumCircuit(in_qubits, out_qubit)\r\n",
    "XOR(qc, in_qubits[0], in_qubits[1], out_qubit)\r\n",
    "qc.draw(output='mpl')"
   ],
   "outputs": [],
   "metadata": {}
  },
  {
   "cell_type": "markdown",
   "source": [
    "Convince yourself that the output0 bit in the circuit below will only be flipped if input0 ≠ input1.\n",
    "\n",
    "Next, the goal is to call this circuit a total of 4 times to check whether all the qubits identified in the clause list satisfy the conditions. \n",
    "\n",
    "- input_0 ≠ input_1   # check along top row\n",
    "- input_2 ≠ input_3   # check along bottom row\n",
    "- input_0 ≠ input_2   # check down left column\n",
    "- input_1 ≠ input_3   # check down right column"
   ],
   "metadata": {}
  },
  {
   "cell_type": "code",
   "execution_count": null,
   "source": [
    "i = 0\r\n",
    "for clause in clause_list:\r\n",
    "    XOR(qc, clause[0], clause[1], clause_qubits[i])\r\n",
    "    i += 1\r\n",
    "\r\n",
    "qc.draw()"
   ],
   "outputs": [],
   "metadata": {}
  },
  {
   "cell_type": "markdown",
   "source": [
    "The final state of the bits c_0 through c_3 will be all 1 only if the states of v_0 through v_3 are solutions to the Sudoku.\n",
    "\n",
    "To complete this circuit, we can add one more gate that will serve as a 3-input AND gate, setting a new bit called *output_qubit* to 1 only if c_0, c_1, and c_2 are all 1. This can be accomplished with a multi-qubit controlled X gate (a gate that flips the state of *output_qubit* only if all the inputs are 1)\n",
    "\n",
    "Let's rewrite the circuit from the start. "
   ],
   "metadata": {}
  },
  {
   "cell_type": "code",
   "execution_count": null,
   "source": [
    "var_qubits = QuantumRegister(4, name='v')\r\n",
    "clause_qubits = QuantumRegister(4, name='c')\r\n",
    "output_qubit = QuantumRegister(1, name='out')\r\n",
    "qc = QuantumCircuit(var_qubits, clause_qubits, output_qubit)\r\n",
    "\r\n",
    "# Compute clauses\r\n",
    "i = 0\r\n",
    "for clause in clause_list:\r\n",
    "    XOR(qc, clause[0], clause[1], clause_qubits[i])\r\n",
    "    i += 1\r\n",
    "\r\n",
    "# Flip 'output' bit if all clauses are satisfied\r\n",
    "qc.mct(clause_qubits, output_qubit)\r\n",
    "\r\n",
    "qc.draw(output='mpl')"
   ],
   "outputs": [],
   "metadata": {}
  },
  {
   "cell_type": "markdown",
   "source": [
    "After running the circuit, the state of the $out_0$ bit tells us if the assignment of the states for v_0...v_3 is a solution or not. $out_0$ = 0 means the assignment is not a solution, and $out_0$=1 means the assignment is a solution."
   ],
   "metadata": {}
  },
  {
   "cell_type": "markdown",
   "source": [
    "Now, we can implement the Grover algorithm. For the sake of time, the algorithm is not shown or explained in detail here. The algorithm is simple and can be scaled up to any circuit of any size: the important part is the work that we have done so far, which consists of creating the oracle! "
   ],
   "metadata": {}
  },
  {
   "cell_type": "code",
   "execution_count": null,
   "source": [
    "def sudoku_oracle(qc, clause_list, clause_qubits):\r\n",
    "    i = 0\r\n",
    "    for clause in clause_list:\r\n",
    "        XOR(qc, clause[0], clause[1], clause_qubits[i])\r\n",
    "        i += 1\r\n",
    "    qc.mct(clause_qubits, output_qubit)\r\n",
    "    i = 0\r\n",
    "    for clause in clause_list:\r\n",
    "        XOR(qc, clause[0], clause[1], clause_qubits[i])\r\n",
    "        i += 1\r\n",
    "        \r\n",
    "def diffuser(nqubits):\r\n",
    "    qc = QuantumCircuit(nqubits)\r\n",
    "    # Apply transformation |s> -> |00..0> (H-gates)\r\n",
    "    for qubit in range(nqubits):\r\n",
    "        qc.h(qubit)\r\n",
    "    # Apply transformation |00..0> -> |11..1> (X-gates)\r\n",
    "    for qubit in range(nqubits):\r\n",
    "        qc.x(qubit)\r\n",
    "    # Do multi-controlled-Z gate\r\n",
    "    qc.h(nqubits-1)\r\n",
    "    qc.mct(list(range(nqubits-1)), nqubits-1)  # multi-controlled-toffoli\r\n",
    "    qc.h(nqubits-1)\r\n",
    "    # Apply transformation |11..1> -> |00..0>\r\n",
    "    for qubit in range(nqubits):\r\n",
    "        qc.x(qubit)\r\n",
    "    # Apply transformation |00..0> -> |s>\r\n",
    "    for qubit in range(nqubits):\r\n",
    "        qc.h(qubit)\r\n",
    "    # We will return the diffuser as a gate\r\n",
    "    U_s = qc.to_gate()\r\n",
    "    U_s.name = \"U$_s$\"\r\n",
    "    return U_s\r\n",
    "        \r\n",
    "var_qubits = QuantumRegister(4, name='v')\r\n",
    "clause_qubits = QuantumRegister(4, name='c')\r\n",
    "output_qubit = QuantumRegister(1, name='out')\r\n",
    "cbits = ClassicalRegister(4, name='cbits')\r\n",
    "qc = QuantumCircuit(var_qubits, clause_qubits, output_qubit, cbits)\r\n",
    "\r\n",
    "qc.x(output_qubit)\r\n",
    "qc.h(output_qubit)\r\n",
    "qc.h(var_qubits)\r\n",
    "sudoku_oracle(qc, clause_list, clause_qubits)\r\n",
    "qc.append(diffuser(4), [0,1,2,3])\r\n",
    "sudoku_oracle(qc, clause_list, clause_qubits)\r\n",
    "qc.append(diffuser(4), [0,1,2,3])\r\n",
    "qc.measure(var_qubits, cbits)\r\n",
    "qc.draw(fold=-1, output='mpl')\r\n",
    "    "
   ],
   "outputs": [],
   "metadata": {}
  },
  {
   "cell_type": "markdown",
   "source": [
    "Now you can simulate and plot the results. Note that you can also run this on a real quantum computer if you have the time to wait for it to queue! "
   ],
   "metadata": {}
  },
  {
   "cell_type": "code",
   "execution_count": null,
   "source": [
    "# Simulate and plot results\r\n",
    "aer_simulator = Aer.get_backend('aer_simulator')\r\n",
    "transpiled_qc = transpile(qc, aer_simulator)\r\n",
    "qobj = assemble(transpiled_qc)\r\n",
    "result = aer_sim.run(qobj).result()\r\n",
    "plot_histogram(result.get_counts())\r\n"
   ],
   "outputs": [],
   "metadata": {}
  },
  {
   "cell_type": "markdown",
   "source": [
    "What do these results mean? Are they correct?"
   ],
   "metadata": {}
  }
 ],
 "metadata": {
  "interpreter": {
   "hash": "4d3518c3542c62f110d16b67e2157db2a63aff78d42334af1f953d86a510ccc1"
  },
  "kernelspec": {
   "name": "python3",
   "display_name": "Python 3.7.0 64-bit"
  },
  "language_info": {
   "codemirror_mode": {
    "name": "ipython",
    "version": 3
   },
   "file_extension": ".py",
   "mimetype": "text/x-python",
   "name": "python",
   "nbconvert_exporter": "python",
   "pygments_lexer": "ipython3",
   "version": "3.7.0"
  }
 },
 "nbformat": 4,
 "nbformat_minor": 5
}