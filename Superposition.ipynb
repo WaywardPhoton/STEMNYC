{
 "cells": [
  {
   "cell_type": "markdown",
   "source": [
    "\r\n",
    "### Orthonormality\r\n",
    "\r\n",
    "In the last exercise question, we discovered that the inner product or scalar product of two different quantum states, $ |0\\rangle $ or $|1\\rangle$   results in 0. This property of the quantum states is called orthogonality. Moreover, we realized that the inner product of two same quantum states, such as  $ |0\\rangle $ and  $ |0\\rangle $ , always results in 1. This property is called normality. Combining these two properties, gives us the most crucial characteristic of the quantum state vectors - orthonormality. \r\n",
    "\r\n",
    "The quantum states $ |0\\rangle $ and $|1\\rangle$ are special vector states called basis vectors. What that means is that you can construct any quantum state by a combination (such as addition, subtraction, multiplication by a number) of these vectors. Moreover these basis vectors are *orthonormal*. \r\n",
    "\r\n",
    "### Superposition \r\n",
    "\r\n",
    "Now that you've seen how to work with vectors, let's take a look at how superposition is expressed in this format. \r\n",
    "\r\n",
    "The $ |0\\rangle $ and $|1\\rangle$ quantum states are easy to visualize (eg spin-up or spin-down) - similar to classical bits. Now we will see the real beauty of quantum mechanics manifested in the way we write more complex qubit states.\r\n",
    "\r\n",
    "Since $ |0\\rangle $ and $|1\\rangle$ qubit states form basis vectors, it is possible to define a new qubit state which is a linear combination of the two. This means that any linear combination of $ |0\\rangle $ and $|1\\rangle$  gives rise to a different quantum state. Some examples of qubits formed by linear combination are:\r\n",
    "- $|q_1\\rangle \\;=\\; 0.6|0\\rangle +0.8|1\\rangle$\r\n",
    "- $|q_2\\rangle \\;=\\; \\frac{1}{\\sqrt{2}}|0\\rangle +\\frac{1}{\\sqrt{2}}|1\\rangle$\r\n",
    "- $|q_3\\rangle \\;=\\; \\frac{1}{2}|0\\rangle +\\frac{\\sqrt{3}}{2}|1\\rangle$\r\n",
    "\r\n",
    "This linear combination results in a completely new qubit state, and is called a *superposition*. Superposition is a quantum phenomena. Unlike a classical mixture, a superposition implies inherent uncertainty in the measurement outcome of the state. We can also convert this into conventional vector form. For instance,  $|q_1\\rangle \\;=\\; 0.6|0\\rangle +0.8|1\\rangle$ can be written as $\\begin{bmatrix} 0.6 \\\\ 0.8 \\end{bmatrix}$.\r\n",
    "\r\n",
    "Note that a superposition $|q\\rangle \\;=\\; a|0\\rangle+ b|1\\rangle$ must have *a* and *b* such that $\\langle q|q\\rangle \\; = \\; 1$: the state must be *normalized*."
   ],
   "metadata": {}
  },
  {
   "cell_type": "markdown",
   "source": [],
   "metadata": {}
  },
  {
   "cell_type": "code",
   "execution_count": 4,
   "source": [
    "from IPython.display import HTML\r\n"
   ],
   "outputs": [],
   "metadata": {}
  },
  {
   "cell_type": "code",
   "execution_count": 5,
   "source": [
    "\r\n",
    "%%html\r\n",
    "<iframe id=\"interactApp60f9145fc7033e00178e24f9\" width=\"800\" height=\"800\" style=\"border:none;max-width:100%;margin:0;\" allowTransparency=\"true\" frameborder=\"0\" src=\"https://quiz.tryinteract.com/#/60f9145fc7033e00178e24f9?method=iframe\"></iframe>"
   ],
   "outputs": [
    {
     "output_type": "display_data",
     "data": {
      "text/plain": [
       "<IPython.core.display.HTML object>"
      ],
      "text/html": [
       "<iframe id=\"interactApp60f9145fc7033e00178e24f9\" width=\"800\" height=\"800\" style=\"border:none;max-width:100%;margin:0;\" allowTransparency=\"true\" frameborder=\"0\" src=\"https://quiz.tryinteract.com/#/60f9145fc7033e00178e24f9?method=iframe\"></iframe>\n"
      ]
     },
     "metadata": {}
    }
   ],
   "metadata": {}
  },
  {
   "cell_type": "code",
   "execution_count": null,
   "source": [],
   "outputs": [],
   "metadata": {}
  }
 ],
 "metadata": {
  "orig_nbformat": 4,
  "language_info": {
   "name": "python",
   "version": "3.7.0",
   "mimetype": "text/x-python",
   "codemirror_mode": {
    "name": "ipython",
    "version": 3
   },
   "pygments_lexer": "ipython3",
   "nbconvert_exporter": "python",
   "file_extension": ".py"
  },
  "kernelspec": {
   "name": "python3",
   "display_name": "Python 3.7.0 64-bit"
  },
  "interpreter": {
   "hash": "4d3518c3542c62f110d16b67e2157db2a63aff78d42334af1f953d86a510ccc1"
  }
 },
 "nbformat": 4,
 "nbformat_minor": 2
}