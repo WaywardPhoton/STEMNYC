{
 "cells": [
  {
   "cell_type": "markdown",
   "source": [
    "## Oracles\r\n",
    "\r\n",
    "![](images/jeff.PNG)"
   ],
   "metadata": {}
  },
  {
   "cell_type": "markdown",
   "source": [
    "###\r\n",
    "Let's say you have a massive pile of cold, hard cash and you know that there is one counterfeit bill in the whole stash. Let's say there are 50 bills total, including the counterfeit one. You have a special machine that can take one bill at a time, and emit a loud 'beep' if a fake bill is detected. How many bills do you have to check this way before you find the counterfeit one?\r\n",
    "\r\n",
    "The answer is about 25, or half the pile!"
   ],
   "metadata": {}
  },
  {
   "cell_type": "markdown",
   "source": [
    "Now let's pretend that our bill checker is a black box. We don't know how it identifies the counterfeit bills. All we can say is that it has an internal mathematical function that it applies to each bill, and the output, either a 0 or 1, will indicate the result of that function evaluation.In other words, we can write:\r\n",
    "\r\n",
    "$ƒ(x) = 1$ or $ƒ(x) = 0$\r\n",
    "\r\n",
    "Let's make the pile of bills smaller so that we can see what's going on. Say there are 4 bills in total with one counterfeit bill. We can represent the input bills as a 4-digit binary string, with a 1 in the place of the bill that is currently being checked. The output of this operation with be a 1 if the bill is counterfeit, and a zero if it is legitimate.\r\n",
    "\r\n",
    "![](images/check.png)\r\n",
    "\r\n"
   ],
   "metadata": {}
  },
  {
   "cell_type": "markdown",
   "source": [
    "For example, if the third bill is counterfeit, then we can write: <br>\r\n",
    "<br>\r\n",
    "<br>\r\n",
    "$ƒ(1000)$ = 0\r\n",
    "<br>\r\n",
    "$ƒ(0100)$ = 0\r\n",
    "<br>\r\n",
    "$ƒ(0010)$ = 1\r\n",
    "<br>\r\n",
    "$ƒ(0001)$ = 0\r\n",
    "\r\n",
    "The black box will simply evaluate the function: it does not 'know' that correct answer internally. In quantum computing, a black box that performs a this type of function evaluation without having any knowledge of the solution is called an \"oracle,\" like the Oracle at Delphi (in case there are some Greek mythology lovers out there!). Oracles are very useful because there are many computational problems in which it’s difficult to find a solution, but relatively easy to verify a solution.\r\n",
    "\r\n",
    "Let's look at an algorithm (called Grover's algorithm) that can act like the counterfeit bill detector shown above. Given a set of input data of size M containing a single solution to a given problem, the Grover algorithm will find the solution in $\\sqrt{N}$ iterations, compared to N iterations for the classical search case. \r\n",
    "\r\n",
    "This becomes very important for searching extremely large data sets! In this example, we're going to implement the Grover search quantum circuit and run it on both a quantum simulator and a real quantum computer. For simplicity's sake, let's keep the circuit very small (2 qubits).\r\n",
    "\r\n",
    "Let's say we have 4 bills, and one of  them is faulty. We give each bill an index: 1, 2, 3, and 4. These indices are then represented by our qubit states.\r\n",
    "\r\n",
    "The searching algorithm starts by initializing all the qubits to the zero state, $\\vert0\\rangle$. The joint state of the 2- qubit system can be written as  $\\vert 00\\rangle$. This is done automatically in the IBMQ composer.\r\n",
    "\r\n",
    "The next step is to put all the qubits into a superposition by applying an H gate to each one. Since there are two qubits in the system, there will be 4 states in the superposition:\r\n",
    "\r\n",
    "![](images/ssuperposition.png)\r\n",
    "\r\n",
    "We can actually 'see' this superposition on the Bloch sphere, if we build the circuit in the *full* Circuit Composer. The superposition states will contain all possible two-qubit states. That is, a single qubit will be either $\\vert0\\rangle$ or $\\vert1\\rangle$. Combined, this gives us four possible states:\r\n",
    "<br>\r\n",
    " - $\\vert00\\rangle$  (both qubits in the 0 state) <br>\r\n",
    "\r\n",
    "- $\\vert01\\rangle$   (one qubit in 0 and  the other in 1) <br>\r\n",
    "\r\n",
    "- $\\vert10\\rangle$  (one qubit in 1 and the other in 0) <br>\r\n",
    "\r\n",
    "and<br>\r\n",
    "\r\n",
    "- $\\vert11\\rangle$  (both qubits in the 1 state).\r\n",
    "\r\n",
    "We can see that there states all have an equal probability of being measured by takign a look at the Bloch sphere:\r\n",
    "\r\n",
    "![](images/bloch4.png)\r\n",
    "\r\n",
    "\r\n"
   ],
   "metadata": {}
  },
  {
   "cell_type": "markdown",
   "source": [],
   "metadata": {}
  },
  {
   "cell_type": "code",
   "execution_count": null,
   "source": [
    "from IPython.display import Iframe"
   ],
   "outputs": [],
   "metadata": {}
  },
  {
   "cell_type": "code",
   "execution_count": 1,
   "source": [
    "%%html\r\n",
    "<iframe id=\"interactApp60fb449fce3ec800179524db\" width=\"800\" height=\"800\" style=\"border:none;max-width:100%;margin:0;\" allowTransparency=\"true\" frameborder=\"0\" src=\"https://quiz.tryinteract.com/#/60fb449fce3ec800179524db?method=iframe\"></iframe>"
   ],
   "outputs": [
    {
     "output_type": "display_data",
     "data": {
      "text/plain": [
       "<IPython.core.display.HTML object>"
      ],
      "text/html": [
       "<iframe id=\"interactApp60fb449fce3ec800179524db\" width=\"800\" height=\"800\" style=\"border:none;max-width:100%;margin:0;\" allowTransparency=\"true\" frameborder=\"0\" src=\"https://quiz.tryinteract.com/#/60fb449fce3ec800179524db?method=iframe\"></iframe>\n"
      ]
     },
     "metadata": {}
    }
   ],
   "metadata": {}
  },
  {
   "cell_type": "markdown",
   "source": [
    "Now let's look at the second step in the circuit. We will create a 'mystery function' called the **Grover iteration**. This function contains the orcale that we discussed earlier.\r\n",
    "\r\n",
    "This circuit is applied a certain number of times, and what it does in amplify the probability of measuring the state that is a solution to our problem. Since we only have 2 qubits, we only need to apply this iteration once.\r\n",
    "\r\n",
    "![](images/grover1.png)\r\n",
    "\r\n",
    "Let's represent all of our four possible solutions with 3-D blocks. These solutions are created by the Hadamard operation. The block that represents the solution state of the problem is marked in red. Initially, all of the blocks have the same height: if we measure the system, we will get one of four outcomes with equal probability.\r\n",
    "\r\n",
    "![](images/grover2.png)\r\n",
    "\r\n",
    "Now, we can apply the 'Grover Iteration' to the blocks. This step contains, among other things, the Oracle, which will first 'mark' the solution by inverting the block:\r\n",
    "\r\n",
    "\r\n",
    "![](images/grover3.PNG)\r\n",
    "\r\n",
    "Then, these blocks (representing amplitudes of the states) are passed through an amplification circuit, which will only increase the amplitude of the marked solution:\r\n",
    "\r\n",
    "![](images/grover4.PNG)\r\n",
    "\r\n",
    "After a predetermined number of iterations, the amplitude of the solution block will far exceed those of the other states:\r\n",
    "\r\n",
    "![](images/grover5.PNG)\r\n",
    "\r\n",
    "Now, if we measure the states, we will get a pretty high probability of measuring the correct $|01\\rangle$\r\n",
    "state, which in this case represents the solution to the problem we've been trying to solve.\r\n",
    "\r\n",
    "This should give you enough background that you can follow along with the interactive coding activity in the next part. We'll be coding our own oracle!"
   ],
   "metadata": {}
  },
  {
   "cell_type": "markdown",
   "source": [],
   "metadata": {}
  }
 ],
 "metadata": {
  "orig_nbformat": 4,
  "language_info": {
   "name": "python",
   "version": "3.7.0",
   "mimetype": "text/x-python",
   "codemirror_mode": {
    "name": "ipython",
    "version": 3
   },
   "pygments_lexer": "ipython3",
   "nbconvert_exporter": "python",
   "file_extension": ".py"
  },
  "kernelspec": {
   "name": "python3",
   "display_name": "Python 3.7.0 64-bit"
  },
  "interpreter": {
   "hash": "4d3518c3542c62f110d16b67e2157db2a63aff78d42334af1f953d86a510ccc1"
  }
 },
 "nbformat": 4,
 "nbformat_minor": 2
}