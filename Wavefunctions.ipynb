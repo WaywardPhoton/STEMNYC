{
 "cells": [
  {
   "cell_type": "markdown",
   "source": [
    "## Intro\r\n",
    "You've gotten a taste of the concept of superposition in the polarized light experiment. Now, we're going to introduce some fundamental ways to describe quantum phenomena like superposition using linear algebra. A basic understanding of how superposition and entanglement \"work\" from a math standpoint will give you the necessary background to explore online quantum computing exercises and information!"
   ],
   "metadata": {}
  },
  {
   "cell_type": "markdown",
   "source": [
    "## Classical Determinism\r\n",
    "\r\n",
    "Classical objects follow rules of classical physics (such as Newton's laws of motion).\r\n",
    "\r\n",
    "Consider a car moving in a straight line with a uniform velocity $v$. We can define the momentum of the car as $p= mv$.  Classical physics tells us that at any time, the car would have travelled a distance that is given by $d= vt$.\r\n",
    "\r\n",
    "If you were to conduct an experiment which allows you to measure the momentum of the car at any time, using some knowledge of physics, you would be able to calculate the position of the car at any given time. You can measure both position and momentum of the car at the same time. There are no surprises here at all. The motion of the car is completely deterministic. "
   ],
   "metadata": {}
  },
  {
   "cell_type": "markdown",
   "source": [
    "## Quantum Uncertainty \r\n",
    "\r\n",
    "You may be familiar with the wave-particle duality of electrons in the context of something like the double-slit experiment. If we think of electrons as particles, we can assume that they follow some kinds of equations of motion similar to the way classical objects follow Newton's laws of motion. However, we need to be able to account for all of their wave-like properties as well. The equation that captures this essence of quantum objects is Schrödinger's equation. It gives information about all quantum-mechanical properties (for example, quantized energy levels of hydrogen atom).\r\n",
    "\r\n",
    "Quantum objects follow rules of quantum mechanics (such as the ones described by the Schrödinger's equation).\r\n",
    "Schrödinger's equation describes the wavefunctions of quantum objects. These wavefunctions are related to the probability of finding a quantum object at a particular position. This means we cannot say with certainty where the electron (or any other quantum object) will be at any given time. \r\n",
    "\r\n",
    "<br>\r\n",
    "\r\n",
    "![](images/img1.PNG)\r\n",
    "\r\n",
    "The figure depicts the wavefunction squared-- the probability distribution-- for the position of a particle. The shaded region represents the probability of finding the quantum object between points $a$ and  $b$ along the $x$ direction. Note that this just depicts the chance of finding the quantum object in the shaded region - there are no guarantees here!\r\n",
    "\r\n",
    "Quantum objects such as electrons will also have properties such as position and momentum. Now, similar to the car experiment, we can try to measure position as well as momentum of the electron. However, if we pin down the position of the electron, we will be unable to measure its momentum accurately. Heisenberg's uncertainty principle dictates that the more precisely determined a quantum object's position is, the less precise is its momentum (and vice versa).\r\n",
    "\r\n",
    "For a wavefunction, something like position is not a determinate quantity. It is given by some probability distribution such as the one shown above. When we actually use our experimental apparatus and measure the position of the electron, we may find it at any of the points along $x$ based on its probability distribution.\r\n",
    "\r\n",
    "![](images/img2.PNG)\r\n",
    "\r\n",
    "Notice that the probability distribution is now centred at point C. This means that we have determined the location of the electron to be at point C which reduces the probability of finding the electron at any other point to zero.\r\n",
    "\r\n",
    "\r\n",
    "- Where exactly was the electron just before it was measured to be in state C?\r\n",
    "- What do you think will happen if we measure the position of the electron again? Will it still be at point C or at any other point (say A,B and so on)?\r\n",
    "\r\n"
   ],
   "metadata": {}
  },
  {
   "cell_type": "markdown",
   "source": [],
   "metadata": {}
  }
 ],
 "metadata": {
  "kernelspec": {
   "display_name": "Python 3",
   "language": "python",
   "name": "python3"
  },
  "language_info": {
   "codemirror_mode": {
    "name": "ipython",
    "version": 3
   },
   "file_extension": ".py",
   "mimetype": "text/x-python",
   "name": "python",
   "nbconvert_exporter": "python",
   "pygments_lexer": "ipython3",
   "version": "3.7.0"
  }
 },
 "nbformat": 4,
 "nbformat_minor": 5
}